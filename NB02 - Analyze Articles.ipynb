{
 "cells": [
  {
   "cell_type": "code",
   "execution_count": null,
   "id": "018d78bc-4d01-4d5d-bcc4-614e8a5a8448",
   "metadata": {},
   "outputs": [],
   "source": [
    "# Analyze Time Of India Articles"
   ]
  },
  {
   "cell_type": "code",
   "execution_count": null,
   "id": "03542f3b-9bed-4392-a4f0-11d0b6f3d714",
   "metadata": {},
   "outputs": [],
   "source": [
    "import keyring\n",
    "\n",
    "service_name = \"my_app\"\n",
    "username = \"user123\"\n",
    "password = \"mypassword\"\n",
    "\n",
    "# Store password\n",
    "keyring.set_password(service_name, username, password)\n",
    "\n",
    "# Retrieve password\n",
    "retrieved_password = keyring.get_password(service_name, username)\n",
    "print(\"Retrieved password:\", retrieved_password)\n",
    "\n",
    "# Delete password\n",
    "keyring.delete_password(service_name, username)\n"
   ]
  }
 ],
 "metadata": {
  "kernelspec": {
   "display_name": "rswarnka",
   "language": "python",
   "name": "rswarnka"
  },
  "language_info": {
   "codemirror_mode": {
    "name": "ipython",
    "version": 3
   },
   "file_extension": ".py",
   "mimetype": "text/x-python",
   "name": "python",
   "nbconvert_exporter": "python",
   "pygments_lexer": "ipython3",
   "version": "3.11.4"
  }
 },
 "nbformat": 4,
 "nbformat_minor": 5
}
