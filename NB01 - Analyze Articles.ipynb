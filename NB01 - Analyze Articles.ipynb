{
 "cells": [
  {
   "cell_type": "markdown",
   "id": "9b91c0a1-4560-46f7-a013-99b5659670ac",
   "metadata": {},
   "source": [
    "# Analyze Time Of India Articles"
   ]
  },
  {
   "cell_type": "markdown",
   "id": "cd3a2877-539a-4e34-9591-2818063bd7cb",
   "metadata": {},
   "source": [
    "[Reference Lab](https://microsoftlearning.github.io/mslearn-ai-language/)\n",
    "\n",
    "Following to be analyzed: \n",
    "* Get language\n",
    "* Get sentiment\n",
    "* Get key phrases\n",
    "* Get entities\n",
    "* Get linked entities\n",
    "\n"
   ]
  },
  {
   "cell_type": "markdown",
   "id": "0d664d12-ac00-4b80-8bcb-27520b4e4324",
   "metadata": {},
   "source": [
    "# Part-1: Setup"
   ]
  },
  {
   "cell_type": "markdown",
   "id": "48bf5692-f83a-4dc5-a4da-ec72fa7d88a0",
   "metadata": {},
   "source": [
    "## 1.1 Imports"
   ]
  },
  {
   "cell_type": "code",
   "execution_count": 1,
   "id": "ae989e71-0e6c-4e3d-8056-96b0e8d66f6e",
   "metadata": {},
   "outputs": [],
   "source": [
    "import keyring\n",
    "import getpass\n",
    "import os\n",
    "import json\n",
    "import re\n",
    "import datetime\n",
    "from azure.core.credentials import AzureKeyCredential\n",
    "from azure.ai.textanalytics import TextAnalyticsClient\n",
    "\n"
   ]
  },
  {
   "cell_type": "markdown",
   "id": "d33c3abc-87fa-407e-a18e-69b9f21a77ea",
   "metadata": {},
   "source": [
    "## 1.2 Get Azure AI Language Service Endpoint and Key:"
   ]
  },
  {
   "cell_type": "code",
   "execution_count": 2,
   "id": "26fe69db-264c-4e4c-b9b1-de645800a420",
   "metadata": {},
   "outputs": [
    {
     "name": "stdin",
     "output_type": "stream",
     "text": [
      "Enter Azure AI Language Service endpoint URL:  ········\n"
     ]
    }
   ],
   "source": [
    "endpoint = getpass.getpass(\"Enter Azure AI Language Service endpoint URL: \").strip()"
   ]
  },
  {
   "cell_type": "code",
   "execution_count": 3,
   "id": "3f659a24-9c56-47af-880f-9a58172a0af8",
   "metadata": {},
   "outputs": [
    {
     "name": "stdin",
     "output_type": "stream",
     "text": [
      "Enter Azure AI Language Service API key:  ········\n"
     ]
    }
   ],
   "source": [
    "api_key = getpass.getpass(\"Enter Azure AI Language Service API key: \").strip()"
   ]
  },
  {
   "cell_type": "code",
   "execution_count": 4,
   "id": "95726d00-80b9-42a6-88bc-17980a51307f",
   "metadata": {},
   "outputs": [],
   "source": [
    "# # Keyring : Optional Code block \n",
    "# SERVICE_NAME = \"azure_ai_language\"\n",
    "# # Store password using keyring\n",
    "# keyring.set_password(SERVICE_NAME, \"endpoint\", endpoint)\n",
    "# keyring.set_password(SERVICE_NAME, \"api_key\", api_key)\n",
    "# # Retrieve password\n",
    "# api_key = keyring.get_password(SERVICE_NAME, \"api_key\")\n",
    "# # Delete password\n",
    "# keyring.delete_password(SERVICE_NAME, username)"
   ]
  },
  {
   "cell_type": "markdown",
   "id": "70389623-e65f-49c1-8e7c-2bbe1f57db4e",
   "metadata": {},
   "source": [
    "## 1.3 Create client using endpoint and key:\n"
   ]
  },
  {
   "cell_type": "code",
   "execution_count": 5,
   "id": "53bd1576-afd0-4dd1-93e3-b8d027cf19c0",
   "metadata": {},
   "outputs": [],
   "source": [
    "credential = AzureKeyCredential(api_key)\n",
    "text_analytics_client = TextAnalyticsClient(endpoint=endpoint, credential=credential)"
   ]
  },
  {
   "cell_type": "markdown",
   "id": "ba7c7c12-c302-43ea-8afe-01be16df1647",
   "metadata": {},
   "source": [
    "## 1.4 Set Path: "
   ]
  },
  {
   "cell_type": "code",
   "execution_count": 6,
   "id": "cfa18c50-7774-4fc3-88b3-90746f62f731",
   "metadata": {},
   "outputs": [],
   "source": [
    "# Read the Articles from folder \n",
    "articles_path = \"Output/toi-articles/toi-articles-Most Commented/\"\n",
    "articles_path = \"Output/toi-articles/toi-articles-Science/\""
   ]
  },
  {
   "cell_type": "code",
   "execution_count": 7,
   "id": "7f5caf0e-bf4c-482b-9c57-1c0daf65da7e",
   "metadata": {},
   "outputs": [
    {
     "name": "stdout",
     "output_type": "stream",
     "text": [
      "Found files:\n",
      "Output/toi-articles/toi-articles-Science/124065263-20250926-195737.json\n",
      "Output/toi-articles/toi-articles-Science/124065406-20250926-195737.json\n",
      "Output/toi-articles/toi-articles-Science/124069242-20250926-195737.json\n",
      "Output/toi-articles/toi-articles-Science/124085777-20250926-195737.json\n",
      "Output/toi-articles/toi-articles-Science/124087991-20250926-195737.json\n",
      "Output/toi-articles/toi-articles-Science/124089977-20250926-195737.json\n",
      "Output/toi-articles/toi-articles-Science/124090517-20250926-195737.json\n",
      "Output/toi-articles/toi-articles-Science/124093219-20250926-195737.json\n",
      "Output/toi-articles/toi-articles-Science/124099264-20250926-195737.json\n",
      "Output/toi-articles/toi-articles-Science/124107834-20250926-195737.json\n",
      "Output/toi-articles/toi-articles-Science/124108001-20250926-195737.json\n",
      "Output/toi-articles/toi-articles-Science/124108906-20250926-195737.json\n",
      "Output/toi-articles/toi-articles-Science/124112683-20250926-195737.json\n",
      "Output/toi-articles/toi-articles-Science/124112893-20250926-195737.json\n",
      "Output/toi-articles/toi-articles-Science/124113646-20250926-195737.json\n",
      "Output/toi-articles/toi-articles-Science/124113708-20250926-195737.json\n",
      "Output/toi-articles/toi-articles-Science/124147402-20250926-195737.json\n",
      "Output/toi-articles/toi-articles-Science/124148809-20250926-195737.json\n",
      "Output/toi-articles/toi-articles-Science/124149376-20250926-195737.json\n",
      "Output/toi-articles/toi-articles-Science/124154932-20250926-195737.json\n"
     ]
    }
   ],
   "source": [
    "article_files = [f for f in os.listdir(articles_path) if f.endswith(\".json\")]\n",
    "\n",
    "print(\"Found files:\")\n",
    "for f in article_files:\n",
    "    print(os.path.join(articles_path, f))\n"
   ]
  },
  {
   "cell_type": "markdown",
   "id": "308eb167-3a5f-45e3-a131-48ed159eb183",
   "metadata": {},
   "source": [
    "## 1.5 Data Pre-processing:"
   ]
  },
  {
   "cell_type": "code",
   "execution_count": 8,
   "id": "d9f1230f-29d4-4bc7-8368-6021456a5cd4",
   "metadata": {},
   "outputs": [
    {
     "name": "stdout",
     "output_type": "stream",
     "text": [
      "Number of Articles:20\n"
     ]
    }
   ],
   "source": [
    "all_articles = []\n",
    "for f in article_files:\n",
    "    file_path = os.path.join(articles_path, f)\n",
    "    article_str = open(file_path, encoding=\"utf-8\").read()\n",
    "    article_dict = json.loads(article_str)  # convert str to dict\n",
    "    #print(type(article_dict), file_path)\n",
    "\n",
    "    article_link = article_dict.get(\"article_link\")\n",
    "    \n",
    "    article_headline = article_dict.get(\"article_details\").get(\"headline\")\n",
    "    \n",
    "    date_published = article_dict.get(\"article_details\").get(\"datePublished\")\n",
    "    \n",
    "    article_body = article_dict.get(\"article_details\").get(\"articleBody\")\n",
    "    # Remove all non-ascii chars\n",
    "    article_body = re.sub(r'[^\\x00-\\x7F]+', '', article_body)\n",
    "    # Remove escaped double quotes from string \\\"\n",
    "    article_body = article_body.replace(r'\\\"', '\"')\n",
    "\n",
    "    comments = article_dict.get(\"comments\")\n",
    "\n",
    "    \n",
    "    all_articles.append(\n",
    "        {\n",
    "            \"article_link\"     : article_link,\n",
    "            \"article_headline\" : article_headline,\n",
    "            \"article_body\"     : article_body,\n",
    "            \"date_published\"   : date_published,\n",
    "            \"comments\"         : comments\n",
    "        }\n",
    "    )\n",
    "\n",
    "    #print(article_body)\n",
    "    #print(\"--\"*30)\n",
    "\n",
    "print(f\"Number of Articles:{len(all_articles)}\")"
   ]
  },
  {
   "cell_type": "markdown",
   "id": "d597983c-a3a1-4d19-89ba-5f008ef80719",
   "metadata": {},
   "source": [
    "# Part 2: Text Analytics: "
   ]
  },
  {
   "cell_type": "code",
   "execution_count": 10,
   "id": "e7cf2278-f72a-4e55-b173-2d3a26a4593a",
   "metadata": {},
   "outputs": [
    {
     "name": "stdout",
     "output_type": "stream",
     "text": [
      "Processing:https://timesofindia.indiatimes.com/science/nasa-announces-all-american-class-of-10-astronauts-for-moon-and-mars-mission-women-outnumber-men-for-the-first-time/articleshow/124065263.cms\n",
      "Processing:https://timesofindia.indiatimes.com/science/nasa-parker-solar-probe-sets-speed-record-at-687000-kilometers-per-hour-during-25th-flyby-new-insights/articleshow/124065406.cms\n",
      "Processing:https://timesofindia.indiatimes.com/science/did-earths-oceans-originate-from-an-ancient-near-earth-asteroid-scientists-find-clues/articleshow/124069242.cms\n",
      "Processing:https://timesofindia.indiatimes.com/science/asteroid-2024-yr4-nasa-proposes-blowing-up-hazardous-space-rock-to-protect-moonandsatellites/articleshow/124085777.cms\n",
      "Processing:https://timesofindia.indiatimes.com/science/artemis-ii-2026-nasa-prepares-first-crewed-mission-to-circle-around-the-moon-in-50-years-scheduled-for-february/articleshow/124087991.cms\n",
      "Processing:https://timesofindia.indiatimes.com/science/these-dogs-can-actually-think-like-humans-surprisingly-smarter-than-children/articleshow/124089977.cms\n",
      "Processing:https://timesofindia.indiatimes.com/business/india-business/science-push-cabinet-approves-rs-2277-crore-csir-capacity-building-scheme-to-strengthen-rd-ecosystem/articleshow/124090517.cms\n",
      "Processing:https://timesofindia.indiatimes.com/science/nasa-launches-three-missions-on-falcon-9-to-monitor-space-weather-and-safeguard-astronauts/articleshow/124093219.cms\n",
      "Processing:https://timesofindia.indiatimes.com/science/nasas-james-webb-telescope-reveals-stunning-details-of-largest-star-formation-in-the-milky-way/articleshow/124099264.cms\n",
      "Processing:https://timesofindia.indiatimes.com/science/sun-is-waking-up-nasa-warns-solar-activity-could-disrupt-gps-power-grids-and-satellites/articleshow/124107834.cms\n",
      "Processing:https://timesofindia.indiatimes.com/world/us/nightmare-bacteria-deadly-drug-resistant-pathogen-spreading-fast-in-us-all-you-need-to-know/articleshow/124108001.cms\n",
      "Processing:https://timesofindia.indiatimes.com/science/the-moon-is-rusting-and-earth-might-be-to-blame-scientists-reveal-how/articleshow/124108906.cms\n",
      "Processing:https://timesofindia.indiatimes.com/science/nasas-artemis-ii-mission-orion-spacecraft-integrity-named-ahead-of-historic-lunar-flight-in-february-2026/articleshow/124112683.cms\n",
      "Processing:https://timesofindia.indiatimes.com/science/6-bhk-apartment-astronaut-shubhanshu-shukla-says-first-module-of-bharatiya-antariksh-station-to-launch-soon-explains-design/articleshow/124112893.cms\n",
      "Processing:https://timesofindia.indiatimes.com/science/nasa-launches-imap-mission-to-understand-the-sun-solar-wind-and-interstellar-particles/articleshow/124113646.cms\n",
      "Processing:https://timesofindia.indiatimes.com/science/mystery-beneath-the-baltic-sea-200-foot-structure-with-stair-like-features-discovered-underwater/articleshow/124113708.cms\n",
      "Processing:https://timesofindia.indiatimes.com/science/nasa-isros-nisar-sends-first-radar-images-of-earths-surface-reveals-exceptional-details-of-land-forests-and-agriculture/articleshow/124147402.cms\n",
      "Processing:https://timesofindia.indiatimes.com/science/understanding-why-rose-petals-curl-how-stress-geometry-and-biology-shape-their-elegant-forms/articleshow/124148809.cms\n",
      "Processing:https://timesofindia.indiatimes.com/science/million-year-old-skull-suggests-humans-emerged-earlier-than-thought-challenging-the-africa-centric-theory-of-evolution/articleshow/124149376.cms\n",
      "Processing:https://timesofindia.indiatimes.com/science/study-reveals-offshore-wind-farm-cables-affect-female-crabs-and-marine-ecosystems/articleshow/124154932.cms\n"
     ]
    }
   ],
   "source": [
    "processed_articles = []\n",
    "\n",
    "language_detection_char_limit = 100 # max = 5120\n",
    "key_phrase_char_limit = 100\n",
    "ner_char_limit = 50\n",
    "entity_link_char_limit = 50\n",
    "\n",
    "for article in all_articles:\n",
    "     \n",
    "    print(\"Processing:\" + article.get('article_link'))\n",
    "\n",
    "    # processed article dict\n",
    "    processed_article = article.copy()\n",
    "\n",
    "    # Error: InvalidDocument - document too large only 5120 text elements, see https://aka.ms/text-analytics-data-limits    \n",
    "    # Language Detection\n",
    "    detectedLanguage = text_analytics_client.detect_language(documents=[article.get(\"article_body\")[:language_detection_char_limit]])[0]\n",
    "    detected_lang_name = detectedLanguage.primary_language.name\n",
    "    \n",
    "    processed_article[\"detected_language\"] = detected_lang_name\n",
    "    \n",
    "    # Sentiment Analysis for each comment\n",
    "    # remove old list\n",
    "    comments = article.get(\"comments\")\n",
    "    sentiment_comments = []\n",
    "    comment_dict = {}\n",
    "    for c in comments:        \n",
    "        sentimentAnalysis = text_analytics_client.analyze_sentiment(documents=[ c ])[0]\n",
    "        comment_sentiment = sentimentAnalysis.sentiment\n",
    "        # print(\"Sentiment: {}\".format(sentimentAnalysis.sentiment))\n",
    "        comment_dict = {\n",
    "            \"comment\"   : c,\n",
    "            \"sentiment\" : comment_sentiment\n",
    "        }\n",
    "        sentiment_comments.append(comment_dict)\n",
    "        \n",
    "    processed_article[\"comments_sentiment\"] = sentiment_comments\n",
    "\n",
    "    # Key Phrases: only for 100 Chars\n",
    "    key_phrases = text_analytics_client.extract_key_phrases(documents=[article.get(\"article_body\")[:key_phrase_char_limit]])[0].key_phrases\n",
    "    processed_article[\"key_phrases\"] = key_phrases\n",
    "\n",
    "    # Named Entiry Recognition:\n",
    "    entities = text_analytics_client.recognize_entities(documents=[article.get(\"article_body\")[:ner_char_limit]])[0].entities\n",
    "\n",
    "    named_entities = []\n",
    "    for entity in entities:\n",
    "        temp_entity = {}\n",
    "        temp_entity = {\"entity_name\": entity.text, \"entity_type\": entity.category}\n",
    "        named_entities.append(temp_entity)\n",
    "\n",
    "    processed_article[\"named_entiry_recognition\"] = named_entities\n",
    "\n",
    "    # Entity Linking \n",
    "    link_entities = text_analytics_client.recognize_linked_entities(documents=[article.get(\"article_body\")[:entity_link_char_limit]])[0].entities\n",
    "    link_entity_list = []\n",
    "\n",
    "    for link_entity in link_entities:\n",
    "        temp_link_entity = {}\n",
    "        temp_link_entity = {\"entity_name\": link_entity.name, \"entity_url\": link_entity.url}\n",
    "        link_entity_list.append(temp_link_entity)\n",
    "\n",
    "    processed_article[\"linked_entities\"] = link_entity_list\n",
    "\n",
    "    # Finally append\n",
    "\n",
    "    processed_articles.append(processed_article)\n",
    "\n"
   ]
  },
  {
   "cell_type": "code",
   "execution_count": 11,
   "id": "2c937f2d-7c2e-4ff7-b8f5-a34bc232e71c",
   "metadata": {},
   "outputs": [
    {
     "name": "stdout",
     "output_type": "stream",
     "text": [
      "{\"article_link\": \"https://timesofindia.indiatimes.com/science/nasa-announces-all-american-class-of-10-astronauts-for-moon-and-mars-mission-women-outnumber-men-for-the-first-time/articleshow/124065263.cms\", \"article_headline\": \"NASA announces all-American class of 10 astronauts for moon and Mars mission; women outnumber men for the first time\", \"article_body\": \"NASA on Monday unveiled its newest class of astronaut candidates at Johnson Space Center in Houston, selecting 10 individuals from a competitive pool of 8,000 applicants. This group, comprising six women and four men, marks the first time women outnumber men in a NASA astronaut class. Acting NASA Administrator Sean Duffy described them as Americas best and brightest, emphasizing the critical role they will play in the agencys ambitious plans, including returning humans to the moon and preparing for an unprecedented crewed mission to Mars. The selection reflects NASAs focus on diversity, expertise, and preparing the next generation of space explorers.NASA astronaut class of 2025: The new inducteesBen BaileyBen Bailey, 38, is a mechanical engineer and chief warrant officer 3 in the U.S. Army from Charlottesville, Virginia. He holds a bachelor's in mechanical engineering from the University of Virginia and is completing a master's in systems engineering. Bailey is a graduate of the U.S. Naval Test Pilot School with over 2,000 flight hours across 30+ rotary and fixed-wing aircraft, specializing in developmental testing of Army helicopters like the Black Hawk.Lauren EdgarLauren Edgar, 40, is a geologist from Sammamish, Washington, with a bachelor's degree from Dartmouth and a master's and PhD from Caltech. She contributed as deputy principal investigator on NASAs Artemis III geology team, defining lunar science objectives. Edgar has 17+ years supporting Mars rover missions and worked for the U.S. Geological Survey before selection.Adam FuhrmannAdam Fuhrmann, 35, is an aerospace engineer and major in the U.S. Air Force from Leesburg, Virginia. He is a graduate of the U.S. Air Force Test Pilot School and has extensive flying experience testing cutting-edge military aircraft. Fuhrmanns career focuses on flight test engineering and evaluation of aircraft performance and safety.Cameron JonesCameron Jones, 35, is an aerospace engineer and weapons officer in the Air Force from Savanna, Illinois. He is a test pilot with multiple combat deployments and experience operating advanced military aircraft systems. Jones combines operational expertise with aerospace technical knowledge, preparing for complex space missions.Yuri KuboYuri Kubo, 40, is an electrical and computer engineer from Columbus, Indiana, with a background at NASA as a launch director and engineering executive. He oversaw spacecraft launches and operational safety, bringing critical mission management experience. Kubos expertise spans aerospace engineering, launch operations, and leadership in high-stakes environments.Rebecca LawlerRebecca Lawler, 38, from Little Elm, Texas, is a Navy test pilot and former NOAA hurricane hunter. She flew specialized aircraft into hurricanes to collect vital meteorological data and later supported naval aviation testing and evaluation. Lawler combines high-risk flight experience with scientific support roles critical to aerospace exploration.Imelda MullerImelda Muller, 34, from Copake Falls, New York, is an anesthesiologist and former Navy undersea medical officer. She earned degrees in behavioral neuroscience and medicine and provided medical care during operational Navy diving missions. Muller brings medical expertise essential for astronaut health and safety during extended spaceflights.Erin OvercashErin Overcash, 34, is a Navy lieutenant commander and test pilot from Goshen, Kentucky. She earned aerospace engineering and bioastronautics degrees and is qualified in F/A-18 Super Hornet fighter jets. Overcash has logged more than 1,300 flight hours with multiple carrier-arrested landings and trained as an Olympic-level rugby athlete.Katherine SpiesKatherine Spies, 43, from San Diego, California, is a former Marine Corps attack helicopter pilot and experimental test pilot. She holds degrees in chemical and design engineering and served as a flight test director at Gulfstream Aerospace. Spies combines deep piloting experience with advanced engineering leadership.Anna MenonAnna Menon, 39, from Houston, Texas, is a biomedical engineer who previously worked at SpaceX. She flew as a mission specialist and medical officer on the SpaceX Polaris Dawn mission in 2024, setting a new female altitude record. Menon brings firsthand spaceflight experience and expertise in biomedical systems critical to astronaut health.Historic milestones and unique achievements of the latest announcementThis astronaut class is notable for several reasons. Menon becomes the first person in NASAs astronaut corps with prior orbital experience, having flown aboard SpaceXs Polaris Dawn mission last year. She will also join her husband, Anil Menon, a former SpaceX employee selected in the 2021 astronaut class. This selection marks the first time women outnumber men in a NASA astronaut class, highlighting the agencys push for gender diversity in space exploration.The 10 astronauts will undergo two years of intensive training, including geology, water survival, space health, and high-performance jet exercises. Training prepares them for assignments on the International Space Station (ISS), as well as future Artemis missions to the moon and potential crewed missions to Mars. While NASA is winding down ISS operations by the early 2030s, lessons learned aboard the station will serve as preparation for deeper space exploration.The path to the moon and MarsNASA has already selected experienced astronauts for upcoming Artemis missions, including Artemis II, which will orbit the moon next year. The newly selected class could become eligible for later Artemis flights, including lunar landings and possibly missions to Mars, where no human has yet traveled. These astronauts represent the next generation of explorers who will carry forward NASAs goals of long-term lunar presence and interplanetary exploration.\", \"date_published\": \"2025-09-23T13:26:00+05:30\", \"comments\": [], \"detected_language\": \"English\", \"comments_sentiment\": [], \"key_phrases\": [\"Johnson Space Center\", \"newest class\", \"astronaut candidates\", \"NASA\", \"Monday\", \"Houston\"], \"named_entiry_recognition\": [{\"entity_name\": \"NASA\", \"entity_type\": \"Organization\"}, {\"entity_name\": \"Monday\", \"entity_type\": \"DateTime\"}, {\"entity_name\": \"astron\", \"entity_type\": \"Product\"}], \"linked_entities\": [{\"entity_name\": \"NASA\", \"entity_url\": \"https://en.wikipedia.org/wiki/NASA\"}, {\"entity_name\": \"Monday\", \"entity_url\": \"https://en.wikipedia.org/wiki/Monday\"}]}\n"
     ]
    }
   ],
   "source": [
    "print(json.dumps(processed_articles[0]))"
   ]
  },
  {
   "cell_type": "code",
   "execution_count": 12,
   "id": "70d7b39a-770e-424e-8fbc-fa21f496b6ef",
   "metadata": {},
   "outputs": [
    {
     "name": "stdout",
     "output_type": "stream",
     "text": [
      "Processed articles written to file: Output/text-analytics\\260925-200435.json\n"
     ]
    }
   ],
   "source": [
    "# Make timestamp for filename\n",
    "timestamp = datetime.datetime.now().strftime(\"%d%m%y-%H%M%S\")\n",
    "\n",
    "# Build folder and file path\n",
    "output_folder = \"Output/text-analytics\"\n",
    "os.makedirs(output_folder, exist_ok=True)\n",
    "\n",
    "output_file = os.path.join(output_folder, f\"{timestamp}.json\")\n",
    "\n",
    "# Write JSON to file\n",
    "with open(output_file, \"w\", encoding=\"utf-8\") as f:\n",
    "    json.dump(processed_articles, f, indent=4, ensure_ascii=False)\n",
    "\n",
    "print(f\"Processed articles written to file: {output_file}\")\n"
   ]
  },
  {
   "cell_type": "code",
   "execution_count": null,
   "id": "5fb128fb-d14b-40af-a1f6-dd4e36f310df",
   "metadata": {},
   "outputs": [],
   "source": []
  }
 ],
 "metadata": {
  "kernelspec": {
   "display_name": "rswarnka",
   "language": "python",
   "name": "rswarnka"
  },
  "language_info": {
   "codemirror_mode": {
    "name": "ipython",
    "version": 3
   },
   "file_extension": ".py",
   "mimetype": "text/x-python",
   "name": "python",
   "nbconvert_exporter": "python",
   "pygments_lexer": "ipython3",
   "version": "3.11.4"
  }
 },
 "nbformat": 4,
 "nbformat_minor": 5
}
