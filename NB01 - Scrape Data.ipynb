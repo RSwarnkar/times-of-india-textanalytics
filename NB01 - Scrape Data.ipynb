{
 "cells": [
  {
   "cell_type": "markdown",
   "id": "4cbaf011-f298-42aa-ad6e-ef48eb758c0e",
   "metadata": {},
   "source": [
    "# Scrape Times Of India website using RSS Feed\n"
   ]
  },
  {
   "cell_type": "markdown",
   "id": "b0cec709-5fea-4a9f-8a8e-62ff954d946b",
   "metadata": {},
   "source": [
    "## Disclaimer & Warning: \n",
    "### ⚠️ <span style=\"color:red\"> Warning: Scrape Responsibly <span> ⚠️\n",
    "\n",
    "You must **NOT** scrape the website at a very high frequency. Excessive requests may  \n",
    "lead to your IP being blocked or other restrictions imposed by the website.  \n",
    "\n",
    "Please scrape **responsibly and mindfully**. You are **solely responsible** for any  \n",
    "consequences resulting from your scraping activities.\n",
    "\n",
    "> **Disclaimer:** This notebook is provided for educational purposes only.  \n",
    "> The author is not responsible for any misuse or violation of the website’s  \n",
    "> terms of service.\n",
    "\n",
    "\n",
    "Times Of India - [RSS Feed](https://timesofindia.indiatimes.com/rss.cms) "
   ]
  },
  {
   "cell_type": "markdown",
   "id": "ec117c45-ca60-48d0-9691-abba11217b04",
   "metadata": {},
   "source": [
    "# Part-1: Scrape Articles "
   ]
  },
  {
   "cell_type": "markdown",
   "id": "99f63e9c-0b82-4dbd-8972-44542a9729b0",
   "metadata": {},
   "source": [
    "## 1.1 Select Your Feed Name: List of Feeds provided by Times of India"
   ]
  },
  {
   "cell_type": "code",
   "execution_count": 1,
   "id": "556f3934-b416-40ae-a488-0f69f6803ab8",
   "metadata": {},
   "outputs": [],
   "source": [
    "rss_feed_links = {\n",
    "    \"Top Stories\": \"http://timesofindia.indiatimes.com/rssfeedstopstories.cms\",\n",
    "    \"Most Recent Stories\": \"http://timesofindia.indiatimes.com/rssfeedmostrecent.cms\",\n",
    "    \"India\": \"http://timesofindia.indiatimes.com/rssfeeds/-2128936835.cms\",\n",
    "    \"World\": \"http://timesofindia.indiatimes.com/rssfeeds/296589292.cms\",\n",
    "    \"NRI\": \"http://timesofindia.indiatimes.com/rssfeeds/7098551.cms\",\n",
    "    \"Business\": \"http://timesofindia.indiatimes.com/rssfeeds/1898055.cms\",\n",
    "    \"US\": \"https://timesofindia.indiatimes.com/rssfeeds_us/72258322.cms\",\n",
    "    \"Cricket\": \"http://timesofindia.indiatimes.com/rssfeeds/54829575.cms\",\n",
    "    \"Sports\": \"http://timesofindia.indiatimes.com/rssfeeds/4719148.cms\",\n",
    "    \"Science\": \"http://timesofindia.indiatimes.com/rssfeeds/-2128672765.cms\",\n",
    "    \"Environment\": \"http://timesofindia.indiatimes.com/rssfeeds/2647163.cms\",\n",
    "    \"Tech\": \"http://timesofindia.indiatimes.com/rssfeeds/66949542.cms\",\n",
    "    \"Education\": \"http://timesofindia.indiatimes.com/rssfeeds/913168846.cms\",\n",
    "    \"Entertainment\": \"http://timesofindia.indiatimes.com/rssfeeds/1081479906.cms\",\n",
    "    \"Life & Style\": \"http://timesofindia.indiatimes.com/rssfeeds/2886704.cms\",\n",
    "    \"Most Read\": \"http://timesofindia.indiatimes.com/rssfeedmostread.cms\",\n",
    "    \"Most Shared\": \"http://timesofindia.indiatimes.com/rssfeedmostshared.cms\",\n",
    "    \"Most Commented\": \"http://timesofindia.indiatimes.com/rssfeedmostcommented.cms\",\n",
    "    \"Astrology\": \"https://timesofindia.indiatimes.com/rssfeeds/65857041.cms\",\n",
    "    \"Auto\": \"https://timesofindia.indiatimes.com/rssfeeds/74317216.cms\"\n",
    "}\n",
    "\n",
    "feed_name = \"World\"\n"
   ]
  },
  {
   "cell_type": "markdown",
   "id": "c2e39032-f751-4c37-8cea-ba36b6913b69",
   "metadata": {},
   "source": [
    "## 1.2 Get Article Links and Article Text"
   ]
  },
  {
   "cell_type": "code",
   "execution_count": 2,
   "id": "7f3ce172-d0f7-4a9d-88ad-6e61a258adb2",
   "metadata": {},
   "outputs": [],
   "source": [
    "import requests\n",
    "import xml.etree.ElementTree as ET\n",
    "import re\n",
    "import time\n",
    "import datetime\n",
    "import os\n",
    "import json"
   ]
  },
  {
   "cell_type": "code",
   "execution_count": 3,
   "id": "31216426-f5fa-449d-ad29-4995a98df71c",
   "metadata": {},
   "outputs": [],
   "source": [
    "\n",
    "\n",
    "# Generated from GPT\n",
    "def getArticleLinks(rss_url=\"https://timesofindia.indiatimes.com/rssfeeds/-2128936835.cms\"):\n",
    "    \"\"\"\n",
    "    Fetch all article links from a Times of India RSS feed.\n",
    "\n",
    "    Args:\n",
    "        rss_url (str): RSS feed URL. Defaults to a sample TOI RSS feed.\n",
    "\n",
    "    Returns:\n",
    "        list: List of article URLs.\n",
    "    \"\"\"\n",
    "    try:\n",
    "        resp = requests.get(rss_url)\n",
    "        resp.raise_for_status()  # Raise error if request fails\n",
    "\n",
    "        root = ET.fromstring(resp.content)\n",
    "\n",
    "        # Extract links from <item> tags\n",
    "        links = [item.find(\"link\").text for item in root.findall(\"./channel/item\") if item.find(\"link\") is not None]\n",
    "        return links\n",
    "\n",
    "    except requests.RequestException as e:\n",
    "        print(f\"Request failed: {e}\")\n",
    "        return []\n",
    "    except ET.ParseError as e:\n",
    "        print(f\"Failed to parse XML: {e}\")\n",
    "        return []\n",
    "\n",
    "\n",
    "\n",
    "def fetchArticleText(url):\n",
    "    \"\"\"\n",
    "    Fetch and clean articles from a list of Times of India links.    \n",
    "    Args:\n",
    "        links (list): List of article URLs.    \n",
    "    Returns:\n",
    "        list: List of cleaned article texts.\n",
    "    \"\"\"\n",
    "    article_text = \"\"\n",
    "\n",
    "    try:\n",
    "        r = requests.get(url)\n",
    "        r.raise_for_status()\n",
    "        response_text = r.text\n",
    "\n",
    "        # Extract articleBody using regex\n",
    "        pattern = r'\"articleBody\"\\s*:\\s*\"((?:[^\"\\\\]|\\\\.)*?)\"'\n",
    "        match = re.search(pattern, response_text)\n",
    "        if match:\n",
    "            article = match.group(1)\n",
    "            # Remove non-ASCII characters\n",
    "            clean_article = re.sub(r'[^\\x00-\\x7F]+', '', article)\n",
    "            # Remove escaped double quotes from string \\\"\n",
    "            clean_article = clean_article.replace(r'\\\"', '\"')\n",
    "            article_text = clean_article\n",
    "        else:\n",
    "            # print(f\"No articleBody found for URL: {url}\")\n",
    "            article_text = \"ERROR_FAILED_TO_SCRAPE_ARTICLE\"\n",
    "\n",
    "    except requests.RequestException as e:\n",
    "        print(f\"Failed to fetch article {url}: {e}\")\n",
    "    \n",
    "    return article_text\n",
    "\n"
   ]
  },
  {
   "cell_type": "code",
   "execution_count": 4,
   "id": "43c440c5-46cb-495d-840d-4f437917df6a",
   "metadata": {},
   "outputs": [
    {
     "name": "stdout",
     "output_type": "stream",
     "text": [
      "Found number of Links: 20 links in feed topic = World\n"
     ]
    }
   ],
   "source": [
    "# getArticleLinks(rss_feed_links.get(\"Business\"))\n",
    "# getArticleLinks(rss_feed_links.get(\"Entertainment\"))\n",
    "# getArticleLinks(rss_feed_links.get(\"World\"))\n",
    "# getArticleLinks(rss_feed_links.get(\"NRI\"))\n",
    "\n",
    "all_links = getArticleLinks(rss_feed_links.get(feed_name))\n",
    "print(f\"Found number of Links: {len(all_links)} links in feed topic = {feed_name}\")"
   ]
  },
  {
   "cell_type": "code",
   "execution_count": 5,
   "id": "394737b8-6161-4a7a-9c4c-1f7da9844412",
   "metadata": {},
   "outputs": [
    {
     "name": "stdout",
     "output_type": "stream",
     "text": [
      "Reading Link: https://timesofindia.indiatimes.com/world/middle-east/qatar-introduces-shorter-working-hours-for-qatari-mothers-in-government-jobs/articleshow/124117859.cms\n",
      "Reading Link: https://timesofindia.indiatimes.com/world/middle-east/dubai-unveils-bold-plan-to-cut-school-fees-and-make-education-more-affordable-for-families/articleshow/124114716.cms\n",
      "Reading Link: https://timesofindia.indiatimes.com/world/us/charlie-kirk-assassination-suspects-transgender-boyfriend-reportedly-kicked-out-of-home-experimented-with-drugs-and-alcohol-in-youth/articleshow/124115586.cms\n",
      "Reading Link: https://timesofindia.indiatimes.com/world/europe/ex-french-president-sarkozy-convicted-5-year-term-in-libya-campaign-case-aides-also-jailed/articleshow/124116438.cms\n",
      "Reading Link: https://timesofindia.indiatimes.com/world/china/taiwan-sentences-4-ex-ruling-party-members-on-china-spying/articleshow/124112192.cms\n",
      "Reading Link: https://timesofindia.indiatimes.com/world/uk/is-london-the-sharia-capital-decoding-donald-trumps-un-broadside/articleshow/124115375.cms\n",
      "Reading Link: https://timesofindia.indiatimes.com/world/middle-east/kuwait-sees-over-2600-divorces-in-2025-amid-surge-in-early-marital-breakdowns-and-khula-cases/articleshow/124114733.cms\n",
      "Reading Link: https://timesofindia.indiatimes.com/world/china/weakened-storm-ragasa-pushes-across-chinas-south-coast-after-flooding/articleshow/124112026.cms\n",
      "Reading Link: https://timesofindia.indiatimes.com/world/us/elon-musks-profound-confession-sometimes-i-say-things-so-stupid-that-people-think-theyre-profound-and-sometimes/articleshow/124113127.cms\n",
      "Reading Link: https://timesofindia.indiatimes.com/world/middle-east/dubai-approves-100-year-deep-tunnel-drainage-system-to-combat-extreme-flooding/articleshow/124110368.cms\n",
      "Reading Link: https://timesofindia.indiatimes.com/world/middle-east/kuwait-rolls-out-ai-surveillance-patrol-cars-in-high-tech-security-overhaul/articleshow/124110302.cms\n",
      "Reading Link: https://timesofindia.indiatimes.com/world/us/what-is-the-fujiwhara-effect-understanding-how-atlantic-storms-humberto-and-94l-could-threaten-the-us-east-coast/articleshow/124111862.cms\n",
      "Reading Link: https://timesofindia.indiatimes.com/world/europe/airport-cyberattacks-what-you-need-to-know/articleshow/124110312.cms\n",
      "Reading Link: https://timesofindia.indiatimes.com/world/rest-of-world/south-korea-why-is-president-lee-urging-new-term-limits/articleshow/124108814.cms\n",
      "Reading Link: https://timesofindia.indiatimes.com/world/middle-east/apple-launches-first-official-store-in-al-ain-at-al-jimi-mall-expanding-uae-presence/articleshow/124108879.cms\n",
      "Reading Link: https://timesofindia.indiatimes.com/world/middle-east/uae-sharjahs-biggest-jewellery-show-opens-with-guinness-world-record-10kg-gold-dress-worth-aed-4-6m/articleshow/124108449.cms\n",
      "Reading Link: https://timesofindia.indiatimes.com/world/us/nightmare-bacteria-deadly-drug-resistant-pathogen-spreading-fast-in-us-all-you-need-to-know/articleshow/124108001.cms\n",
      "Reading Link: https://timesofindia.indiatimes.com/world/middle-east/flydubai-flight-from-uae-to-tel-aviv-diverts-to-saudi-arabia-after-passenger-suffers-stroke-mid-flight/articleshow/124107493.cms\n",
      "Reading Link: https://timesofindia.indiatimes.com/world/europe/germanys-bid-to-lead-in-autonomous-driving-faces-roadblocks/articleshow/124106097.cms\n",
      "Reading Link: https://timesofindia.indiatimes.com/world/us/is-the-united-nations-still-fit-for-purpose/articleshow/124106574.cms\n"
     ]
    }
   ],
   "source": [
    "#links = all_links[0:4]\n",
    "\n",
    "links = all_links\n",
    "\n",
    "articles_text = \"\"\n",
    "\n",
    "for i in range(len(links)):\n",
    "    link = links[i]\n",
    "    print(f\"Reading Link: {link}\")\n",
    "    article = fetchArticleText(link)\n",
    "    time.sleep(2)\n",
    "    articles_text = articles_text + article + \"\\n\" + \"--\"*60 + \"\\n\" \n",
    "    #print(article)\n",
    "    #print(\"--\"*60)\n",
    "\n",
    "article_file_path =  \"Output/toi-articles/\" + \"toi-article-\" + feed_name + \"-\" + datetime.datetime.now().strftime(\"%Y%m%d-%H%M%S\")+\".txt\"\n",
    "\n",
    "with open(article_file_path, 'a') as f:\n",
    "    f.write(articles_text)"
   ]
  },
  {
   "cell_type": "markdown",
   "id": "0e072612-f720-4ea2-8a2f-f3335cc4caf1",
   "metadata": {},
   "source": [
    "# Part-2: Scrape Comments "
   ]
  },
  {
   "cell_type": "markdown",
   "id": "72e945ef-451b-47c7-bdc9-57dc00a5ff13",
   "metadata": {},
   "source": [
    "## 2.1 Get list of CMS ID: \n"
   ]
  },
  {
   "cell_type": "code",
   "execution_count": 7,
   "id": "a422c3fe-a139-4d30-990c-f8e0b0794d8a",
   "metadata": {},
   "outputs": [
    {
     "name": "stdout",
     "output_type": "stream",
     "text": [
      "Found number of Links: 20 links in feed topic = World\n"
     ]
    }
   ],
   "source": [
    "article_cms_ids = [re.search(r'/articleshow/(\\d+)\\.cms', u).group(1) for u in all_links]\n",
    "print(f\"Found number of Links: {len(article_cms_ids)} links in feed topic = {feed_name}\")"
   ]
  },
  {
   "cell_type": "code",
   "execution_count": 8,
   "id": "cb4ed598-5d18-498f-a6f2-14f07dd7b5d2",
   "metadata": {},
   "outputs": [
    {
     "name": "stdout",
     "output_type": "stream",
     "text": [
      "Number of Comments Links: 20 links in feed topic = World\n",
      "\n",
      "{'cms_id': '124117859', 'cms_link': 'https://timesofindia.indiatimes.com/commentsdata.cms?msid=124117859&curpg=1&commenttype=agree&pcode=TOI&appkey=TOI&sortcriteria=AgreeCount&order=desc&size=10&after=true&withReward=true&medium=WEB&comment_block_count=3&pagenum=1'}\n",
      "{'cms_id': '124114716', 'cms_link': 'https://timesofindia.indiatimes.com/commentsdata.cms?msid=124114716&curpg=1&commenttype=agree&pcode=TOI&appkey=TOI&sortcriteria=AgreeCount&order=desc&size=10&after=true&withReward=true&medium=WEB&comment_block_count=3&pagenum=1'}\n",
      "{'cms_id': '124115586', 'cms_link': 'https://timesofindia.indiatimes.com/commentsdata.cms?msid=124115586&curpg=1&commenttype=agree&pcode=TOI&appkey=TOI&sortcriteria=AgreeCount&order=desc&size=10&after=true&withReward=true&medium=WEB&comment_block_count=3&pagenum=1'}\n"
     ]
    }
   ],
   "source": [
    "# URL template\n",
    "template = (\"https://timesofindia.indiatimes.com/commentsdata.cms\"\n",
    "            \"?msid={cms_id}&curpg=1&commenttype=agree&pcode=TOI&appkey=TOI\"\n",
    "            \"&sortcriteria=AgreeCount&order=desc&size=10&after=true\"\n",
    "            \"&withReward=true&medium=WEB&comment_block_count=3&pagenum=1\")\n",
    "\n",
    "# Generate comment URLs\n",
    "# comment_urls = [template.format(cms_id=i) for i in article_cms_ids]\n",
    "# print(f\"Number of Comments Links: {len(comment_urls)} links in feed topic = {feed_name}\")\n",
    "\n",
    "# Generate list of dictionaries with cms_id and corresponding comment URL\n",
    "comment_urls = [{\"cms_id\": cms_id, \"cms_link\": template.format(cms_id=cms_id)} \n",
    "                 for cms_id in article_cms_ids]\n",
    "\n",
    "print(f\"Number of Comments Links: {len(comment_urls)} links in feed topic = {feed_name}\\n\")\n",
    "\n",
    "# Optional: print first 3 for verification\n",
    "for link in comment_urls[:3]:\n",
    "    print(link)"
   ]
  },
  {
   "cell_type": "markdown",
   "id": "4f5107ad-9b5b-408c-a4cd-310c8d1a1a4b",
   "metadata": {},
   "source": [
    "## 2.2 Scrape comments and write to Json files: \n"
   ]
  },
  {
   "cell_type": "code",
   "execution_count": 9,
   "id": "452af172-6999-4686-ade6-656320e8fb96",
   "metadata": {},
   "outputs": [
    {
     "name": "stdout",
     "output_type": "stream",
     "text": [
      "No comments for CMS ID 124117859\n",
      "No comments for CMS ID 124114716\n",
      "No comments for CMS ID 124115586\n",
      "Written comments for CMS ID 124116438 to Output/toi-comments/toi-comments-World/cms-124116438-20250925-175841.json\n",
      "No comments for CMS ID 124112192\n",
      "Written comments for CMS ID 124115375 to Output/toi-comments/toi-comments-World/cms-124115375-20250925-175846.json\n",
      "No comments for CMS ID 124114733\n",
      "No comments for CMS ID 124112026\n",
      "No comments for CMS ID 124113127\n",
      "No comments for CMS ID 124110368\n",
      "No comments for CMS ID 124110302\n",
      "No comments for CMS ID 124111862\n",
      "No comments for CMS ID 124110312\n",
      "No comments for CMS ID 124108814\n",
      "No comments for CMS ID 124108879\n",
      "No comments for CMS ID 124108449\n",
      "No comments for CMS ID 124108001\n",
      "No comments for CMS ID 124107493\n",
      "No comments for CMS ID 124106097\n",
      "No comments for CMS ID 124106574\n"
     ]
    }
   ],
   "source": [
    "\n",
    "comments_file_path = \"Output/toi-comments/\" + \"toi-comments-\" + feed_name + \"/\"\n",
    "\n",
    "# Ensure the output folder exists\n",
    "os.makedirs(comments_file_path, exist_ok=True)\n",
    "\n",
    "# Fetch comments JSON for each article and store in the dictionary\n",
    "for entry in comment_urls:\n",
    "    try:\n",
    "        r = requests.get(entry[\"cms_link\"], timeout=10)\n",
    "        r.raise_for_status()  # raise error if status != 200\n",
    "        data = r.json()\n",
    " \n",
    "        # Determine if there are comments\n",
    "        has_comments = False\n",
    "        if isinstance(data, dict):\n",
    "            has_comments = bool(data.get('items'))\n",
    "        elif isinstance(data, list):\n",
    "            has_comments = len(data) > 0\n",
    "\n",
    "        # Write to file only if comments exist\n",
    "        if has_comments:\n",
    "            file_name = f\"cms-{entry['cms_id']}-{datetime.datetime.now().strftime('%Y%m%d-%H%M%S')}.json\"\n",
    "            file_path = os.path.join(comments_file_path, file_name)\n",
    "\n",
    "            with open(file_path, 'w', encoding='utf-8') as f:\n",
    "                json.dump(data, f, ensure_ascii=False, indent=4)\n",
    "\n",
    "            print(f\"Written comments for CMS ID {entry['cms_id']} to {file_path}\")\n",
    "        else:\n",
    "            print(f\"No comments for CMS ID {entry['cms_link']}\")\n",
    "        \n",
    "        time.sleep(2)  # polite delay between requests\n",
    "        \n",
    "    except Exception as e:\n",
    "        print(f\"Failed to fetch CMS ID {entry['cms_link']}: {e}\")\n",
    "        entry[\"comments_json\"] = None"
   ]
  },
  {
   "cell_type": "code",
   "execution_count": null,
   "id": "73851970-c69d-4437-bc0d-7671a066cf6d",
   "metadata": {},
   "outputs": [],
   "source": []
  },
  {
   "cell_type": "code",
   "execution_count": null,
   "id": "91b9da98-07df-4cae-a3de-e4dbccc68fb6",
   "metadata": {},
   "outputs": [],
   "source": []
  }
 ],
 "metadata": {
  "kernelspec": {
   "display_name": "rswarnka",
   "language": "python",
   "name": "rswarnka"
  },
  "language_info": {
   "codemirror_mode": {
    "name": "ipython",
    "version": 3
   },
   "file_extension": ".py",
   "mimetype": "text/x-python",
   "name": "python",
   "nbconvert_exporter": "python",
   "pygments_lexer": "ipython3",
   "version": "3.11.4"
  }
 },
 "nbformat": 4,
 "nbformat_minor": 5
}
