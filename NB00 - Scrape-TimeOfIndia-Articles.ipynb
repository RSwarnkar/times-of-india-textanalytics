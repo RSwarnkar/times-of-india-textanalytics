{
 "cells": [
  {
   "cell_type": "markdown",
   "id": "25de6356-3a19-4e4f-a617-a8d9debbb02c",
   "metadata": {},
   "source": [
    "# Scrape Times Of India website using RSS Feed\n"
   ]
  },
  {
   "cell_type": "markdown",
   "id": "0c34e27d-4126-4ae1-84d7-70fa58b29ac9",
   "metadata": {},
   "source": [
    "## Disclaimer & Warning: \n",
    "### ⚠️ <span style=\"color:red\"> Warning: Scrape Responsibly <span> ⚠️\n",
    "\n",
    "You must **NOT** scrape the website at a very high frequency. Excessive requests may  \n",
    "lead to your IP being blocked or other restrictions imposed by the website.  \n",
    "\n",
    "Please scrape **responsibly and mindfully**. You are **solely responsible** for any  \n",
    "consequences resulting from your scraping activities.\n",
    "\n",
    "> **Disclaimer:** This notebook is provided for educational purposes only.  \n",
    "> The author is not responsible for any misuse or violation of the website’s  \n",
    "> terms of service.\n",
    "\n",
    "\n",
    "Times Of India - [RSS Feed](https://timesofindia.indiatimes.com/rss.cms) "
   ]
  },
  {
   "cell_type": "markdown",
   "id": "ad13c9d3-7f62-491b-879a-3b3d4ea17f85",
   "metadata": {},
   "source": [
    "# Part-1: Scraping From RSS Feed to get the Articles Links:"
   ]
  },
  {
   "cell_type": "code",
   "execution_count": 1,
   "id": "e5916fc4-332e-4dfa-83a5-6d74c43e18cc",
   "metadata": {},
   "outputs": [],
   "source": [
    "import requests\n",
    "import xml.etree.ElementTree as ET\n",
    "import re\n",
    "import time\n",
    "import datetime\n",
    "import os\n",
    "import json"
   ]
  },
  {
   "cell_type": "markdown",
   "id": "15123a9d-0fb8-4c9b-aab9-e94c334d0744",
   "metadata": {},
   "source": [
    "## 1.1 Select RSS FEED NAME:"
   ]
  },
  {
   "cell_type": "code",
   "execution_count": 2,
   "id": "b7f38806-0c34-4a40-986c-d094d7b09541",
   "metadata": {},
   "outputs": [],
   "source": [
    "# Set Feed Name Here: \n",
    "RSS_FEED_NAME = \"Science\""
   ]
  },
  {
   "cell_type": "code",
   "execution_count": 3,
   "id": "2b54635f-9027-440a-a13a-f6fd60a5e8c5",
   "metadata": {},
   "outputs": [],
   "source": [
    "rss_feed_links = {\n",
    "    \"Top Stories\": \"http://timesofindia.indiatimes.com/rssfeedstopstories.cms\",\n",
    "    \"Most Recent Stories\": \"http://timesofindia.indiatimes.com/rssfeedmostrecent.cms\",\n",
    "    \"India\": \"http://timesofindia.indiatimes.com/rssfeeds/-2128936835.cms\",\n",
    "    \"World\": \"http://timesofindia.indiatimes.com/rssfeeds/296589292.cms\",\n",
    "    \"NRI\": \"http://timesofindia.indiatimes.com/rssfeeds/7098551.cms\",\n",
    "    \"Business\": \"http://timesofindia.indiatimes.com/rssfeeds/1898055.cms\",\n",
    "    \"US\": \"https://timesofindia.indiatimes.com/rssfeeds_us/72258322.cms\",\n",
    "    \"Cricket\": \"http://timesofindia.indiatimes.com/rssfeeds/54829575.cms\",\n",
    "    \"Sports\": \"http://timesofindia.indiatimes.com/rssfeeds/4719148.cms\",\n",
    "    \"Science\": \"http://timesofindia.indiatimes.com/rssfeeds/-2128672765.cms\",\n",
    "    \"Environment\": \"http://timesofindia.indiatimes.com/rssfeeds/2647163.cms\",\n",
    "    \"Tech\": \"http://timesofindia.indiatimes.com/rssfeeds/66949542.cms\",\n",
    "    \"Education\": \"http://timesofindia.indiatimes.com/rssfeeds/913168846.cms\",\n",
    "    \"Entertainment\": \"http://timesofindia.indiatimes.com/rssfeeds/1081479906.cms\",\n",
    "    \"Life & Style\": \"http://timesofindia.indiatimes.com/rssfeeds/2886704.cms\",\n",
    "    \"Most Read\": \"http://timesofindia.indiatimes.com/rssfeedmostread.cms\",\n",
    "    \"Most Shared\": \"http://timesofindia.indiatimes.com/rssfeedmostshared.cms\",\n",
    "    \"Most Commented\": \"http://timesofindia.indiatimes.com/rssfeedmostcommented.cms\",\n",
    "    \"Astrology\": \"https://timesofindia.indiatimes.com/rssfeeds/65857041.cms\",\n",
    "    \"Auto\": \"https://timesofindia.indiatimes.com/rssfeeds/74317216.cms\"\n",
    "}\n",
    "RSS_FEED_URL = rss_feed_links.get(RSS_FEED_NAME)"
   ]
  },
  {
   "cell_type": "markdown",
   "id": "0c07f9cf-e158-4264-af70-15787f055ce6",
   "metadata": {},
   "source": [
    "## 1.2 Generate Input JSON:"
   ]
  },
  {
   "cell_type": "code",
   "execution_count": 4,
   "id": "2d798ec3-64a3-4f23-8981-3ffe75bb9983",
   "metadata": {},
   "outputs": [],
   "source": [
    "RSS_FEED_ARTICLES = {}\n",
    "\n",
    "try:\n",
    "    response = requests.get(RSS_FEED_URL, timeout=10)\n",
    "    response.raise_for_status()\n",
    "\n",
    "    # XML Parsing\n",
    "    root = ET.fromstring(response.content)\n",
    "\n",
    "    # Extract links from <item> tags\n",
    "    articles = []\n",
    "    for item in root.findall(\"./channel/item\"):\n",
    "        link = item.find(\"link\")\n",
    "        if link is not None and link.text:\n",
    "            article_link = link.text.strip()\n",
    "            cms_id = article_link.split(\"/\")[-1].replace(\".cms\", \"\")            \n",
    "            comment_link = (\n",
    "                \"https://timesofindia.indiatimes.com/commentsdata.cms\"\n",
    "                f\"?msid={cms_id}&curpg=1&commenttype=agree&pcode=TOI&appkey=TOI\"\n",
    "                \"&sortcriteria=AgreeCount&order=desc&size=100&after=true\"\n",
    "                \"&withReward=true&medium=WEB&comment_block_count=3&pagenum=1\"\n",
    "            )\n",
    "            articles.append({\n",
    "                \"article_link\": article_link,\n",
    "                \"cms_id\": cms_id,\n",
    "                \"comment_link\": comment_link\n",
    "            })\n",
    "\n",
    "    # Build final dict\n",
    "    RSS_FEED_ARTICLES = {\n",
    "        \"rss_feed_name\": RSS_FEED_NAME,\n",
    "        \"rss_feed_scraped_date\": datetime.datetime.now().strftime(\"%Y-%m-%d %H:%M:%S\"),\n",
    "        \"rss_feed_articles\": articles\n",
    "    }\n",
    "\n",
    "except requests.RequestException as e:\n",
    "    print(f\"Failed getRequest RSS_FEED : {e}\")\n",
    "\n",
    "except ET.ParseError as e:\n",
    "    print(f\"Failed to parse getRequest RSS_FEED XML: {e}\")\n"
   ]
  },
  {
   "cell_type": "markdown",
   "id": "2ac90add-4299-4b36-b1d9-3e84c33c36d4",
   "metadata": {},
   "source": [
    "## 1.3 Write the Input Json to a File: "
   ]
  },
  {
   "cell_type": "code",
   "execution_count": 5,
   "id": "e1527ff1-c932-43f5-9f5a-4f741cf4a13f",
   "metadata": {},
   "outputs": [],
   "source": [
    " # Ensure output directory exists\n",
    "os.makedirs(\"Input\", exist_ok=True)\n",
    "\n",
    "# Create filename with timestamp\n",
    "filename = f\"Input/{RSS_FEED_NAME}-{datetime.datetime.now().strftime('%Y%m%d-%H%M%S')}.json\"\n",
    "\n",
    "# Write JSON file\n",
    "with open(filename, \"w\", encoding=\"utf-8\") as f:\n",
    "    json.dump(RSS_FEED_ARTICLES, f, indent=4, ensure_ascii=False)"
   ]
  },
  {
   "cell_type": "markdown",
   "id": "17925882-bbca-40e1-8ed5-5f449a5c5554",
   "metadata": {},
   "source": [
    "# Part-2: Scrape the each Articles Links:"
   ]
  },
  {
   "cell_type": "markdown",
   "id": "e2fa20d6-c49d-43ae-82b1-989c6172498b",
   "metadata": {},
   "source": [
    "## 2.1 Read Input JSON: \n"
   ]
  },
  {
   "cell_type": "code",
   "execution_count": 6,
   "id": "066775c3-1320-4c1f-a094-f606941e70dc",
   "metadata": {},
   "outputs": [
    {
     "name": "stdout",
     "output_type": "stream",
     "text": [
      "Reading from Input\\Science-20250926-195555.json\n"
     ]
    }
   ],
   "source": [
    "# Pick the latest saved file from Input/ folder OR Specify manually \n",
    "input_folder = \"Input\"\n",
    "\n",
    "latest_file = max(\n",
    "    [os.path.join(input_folder, f) for f in os.listdir(input_folder) if f.endswith(\".json\")],\n",
    "    key=os.path.getctime\n",
    ")\n",
    "\n",
    "input_file = latest_file\n",
    "# input_file = \"Input/India-20250926-085255.json\"\n",
    "\n",
    "print(f\"Reading from {input_file}\")\n",
    "\n",
    "# Load JSON\n",
    "with open(latest_file, \"r\", encoding=\"utf-8\") as f:\n",
    "    feed_article_list = json.load(f)\n",
    "\n",
    "# print(feed_data)"
   ]
  },
  {
   "cell_type": "markdown",
   "id": "e7f02bc0-09fa-4652-8f86-35ae12b7aded",
   "metadata": {},
   "source": [
    "## 2.2 Scrape Article details and Comments for each Article in Feed: "
   ]
  },
  {
   "cell_type": "code",
   "execution_count": 7,
   "id": "593bbb44-2e50-46cf-a478-ab3afd72e5ce",
   "metadata": {},
   "outputs": [],
   "source": [
    "def extract_comments(data, collected=None):\n",
    "    \"\"\"Recursively extract all C_T fields (comments) from JSON.\"\"\"\n",
    "    if collected is None:\n",
    "        collected = []\n",
    "\n",
    "    if isinstance(data, dict):\n",
    "        if \"C_T\" in data:\n",
    "            collected.append(data[\"C_T\"])\n",
    "        if \"REPLIES\" in data and isinstance(data[\"REPLIES\"], list):\n",
    "            for reply in data[\"REPLIES\"]:\n",
    "                extract_comments(reply, collected)\n",
    "\n",
    "    elif isinstance(data, list):\n",
    "        for item in data:\n",
    "            extract_comments(item, collected)\n",
    "\n",
    "    return collected"
   ]
  },
  {
   "cell_type": "code",
   "execution_count": 8,
   "id": "0346258b-6eb8-4294-a110-a1ac46c3a26e",
   "metadata": {},
   "outputs": [
    {
     "name": "stdout",
     "output_type": "stream",
     "text": [
      "\n",
      "Fetching: https://timesofindia.indiatimes.com/science/study-reveals-offshore-wind-farm-cables-affect-female-crabs-and-marine-ecosystems/articleshow/124154932.cms\n",
      "✅ Extracted article JSON for 124154932\n",
      "✅ Extracted 0 comments for 124154932\n",
      "\n",
      "Fetching: https://timesofindia.indiatimes.com/science/million-year-old-skull-suggests-humans-emerged-earlier-than-thought-challenging-the-africa-centric-theory-of-evolution/articleshow/124149376.cms\n",
      "✅ Extracted article JSON for 124149376\n",
      "✅ Extracted 0 comments for 124149376\n",
      "\n",
      "Fetching: https://timesofindia.indiatimes.com/science/understanding-why-rose-petals-curl-how-stress-geometry-and-biology-shape-their-elegant-forms/articleshow/124148809.cms\n",
      "✅ Extracted article JSON for 124148809\n",
      "✅ Extracted 0 comments for 124148809\n",
      "\n",
      "Fetching: https://timesofindia.indiatimes.com/science/nasa-isros-nisar-sends-first-radar-images-of-earths-surface-reveals-exceptional-details-of-land-forests-and-agriculture/articleshow/124147402.cms\n",
      "✅ Extracted article JSON for 124147402\n",
      "✅ Extracted 3 comments for 124147402\n",
      "\n",
      "Fetching: https://timesofindia.indiatimes.com/science/nasa-launches-imap-mission-to-understand-the-sun-solar-wind-and-interstellar-particles/articleshow/124113646.cms\n",
      "✅ Extracted article JSON for 124113646\n",
      "✅ Extracted 0 comments for 124113646\n",
      "\n",
      "Fetching: https://timesofindia.indiatimes.com/science/6-bhk-apartment-astronaut-shubhanshu-shukla-says-first-module-of-bharatiya-antariksh-station-to-launch-soon-explains-design/articleshow/124112893.cms\n",
      "✅ Extracted article JSON for 124112893\n",
      "✅ Extracted 10 comments for 124112893\n",
      "\n",
      "Fetching: https://timesofindia.indiatimes.com/science/mystery-beneath-the-baltic-sea-200-foot-structure-with-stair-like-features-discovered-underwater/articleshow/124113708.cms\n",
      "✅ Extracted article JSON for 124113708\n",
      "✅ Extracted 0 comments for 124113708\n",
      "\n",
      "Fetching: https://timesofindia.indiatimes.com/science/nasas-artemis-ii-mission-orion-spacecraft-integrity-named-ahead-of-historic-lunar-flight-in-february-2026/articleshow/124112683.cms\n",
      "✅ Extracted article JSON for 124112683\n",
      "✅ Extracted 1 comments for 124112683\n",
      "\n",
      "Fetching: https://timesofindia.indiatimes.com/world/us/nightmare-bacteria-deadly-drug-resistant-pathogen-spreading-fast-in-us-all-you-need-to-know/articleshow/124108001.cms\n",
      "✅ Extracted article JSON for 124108001\n",
      "✅ Extracted 1 comments for 124108001\n",
      "\n",
      "Fetching: https://timesofindia.indiatimes.com/science/the-moon-is-rusting-and-earth-might-be-to-blame-scientists-reveal-how/articleshow/124108906.cms\n",
      "✅ Extracted article JSON for 124108906\n",
      "✅ Extracted 0 comments for 124108906\n",
      "\n",
      "Fetching: https://timesofindia.indiatimes.com/science/sun-is-waking-up-nasa-warns-solar-activity-could-disrupt-gps-power-grids-and-satellites/articleshow/124107834.cms\n",
      "✅ Extracted article JSON for 124107834\n",
      "✅ Extracted 0 comments for 124107834\n",
      "\n",
      "Fetching: https://timesofindia.indiatimes.com/science/nasas-james-webb-telescope-reveals-stunning-details-of-largest-star-formation-in-the-milky-way/articleshow/124099264.cms\n",
      "✅ Extracted article JSON for 124099264\n",
      "✅ Extracted 0 comments for 124099264\n",
      "\n",
      "Fetching: https://timesofindia.indiatimes.com/science/nasa-launches-three-missions-on-falcon-9-to-monitor-space-weather-and-safeguard-astronauts/articleshow/124093219.cms\n",
      "✅ Extracted article JSON for 124093219\n",
      "✅ Extracted 0 comments for 124093219\n",
      "\n",
      "Fetching: https://timesofindia.indiatimes.com/business/india-business/science-push-cabinet-approves-rs-2277-crore-csir-capacity-building-scheme-to-strengthen-rd-ecosystem/articleshow/124090517.cms\n",
      "✅ Extracted article JSON for 124090517\n",
      "✅ Extracted 0 comments for 124090517\n",
      "\n",
      "Fetching: https://timesofindia.indiatimes.com/science/artemis-ii-2026-nasa-prepares-first-crewed-mission-to-circle-around-the-moon-in-50-years-scheduled-for-february/articleshow/124087991.cms\n",
      "✅ Extracted article JSON for 124087991\n",
      "✅ Extracted 1 comments for 124087991\n",
      "\n",
      "Fetching: https://timesofindia.indiatimes.com/science/these-dogs-can-actually-think-like-humans-surprisingly-smarter-than-children/articleshow/124089977.cms\n",
      "✅ Extracted article JSON for 124089977\n",
      "✅ Extracted 1 comments for 124089977\n",
      "\n",
      "Fetching: https://timesofindia.indiatimes.com/science/asteroid-2024-yr4-nasa-proposes-blowing-up-hazardous-space-rock-to-protect-moonandsatellites/articleshow/124085777.cms\n",
      "✅ Extracted article JSON for 124085777\n",
      "✅ Extracted 0 comments for 124085777\n",
      "\n",
      "Fetching: https://timesofindia.indiatimes.com/science/did-earths-oceans-originate-from-an-ancient-near-earth-asteroid-scientists-find-clues/articleshow/124069242.cms\n",
      "✅ Extracted article JSON for 124069242\n",
      "✅ Extracted 0 comments for 124069242\n",
      "\n",
      "Fetching: https://timesofindia.indiatimes.com/science/nasa-parker-solar-probe-sets-speed-record-at-687000-kilometers-per-hour-during-25th-flyby-new-insights/articleshow/124065406.cms\n",
      "✅ Extracted article JSON for 124065406\n",
      "✅ Extracted 0 comments for 124065406\n",
      "\n",
      "Fetching: https://timesofindia.indiatimes.com/science/nasa-announces-all-american-class-of-10-astronauts-for-moon-and-mars-mission-women-outnumber-men-for-the-first-time/articleshow/124065263.cms\n",
      "✅ Extracted article JSON for 124065263\n",
      "✅ Extracted 0 comments for 124065263\n"
     ]
    }
   ],
   "source": [
    "combined_articles = []\n",
    "\n",
    "# Loop over articles\n",
    "for article in feed_article_list.get(\"rss_feed_articles\", []):\n",
    "    article_url = article[\"article_link\"]\n",
    "    comment_url = article[\"comment_link\"]\n",
    "    cms_id = article[\"cms_id\"]\n",
    "\n",
    "    print(f\"\\nFetching: {article_url}\")\n",
    "    try:\n",
    "        time.sleep(2)\n",
    "        r = requests.get(article_url, timeout=10)\n",
    "        r.raise_for_status()\n",
    "\n",
    "        # Find ALL <script type=\"application/ld+json\"> ... </script>\n",
    "        matches = re.findall(\n",
    "            r'<script type=\"application/ld\\+json\">\\s*(\\{.*?\\})\\s*</script>',\n",
    "            r.text,\n",
    "            re.DOTALL\n",
    "        )\n",
    "\n",
    "        json_article_details = {}\n",
    "        if len(matches) >= 2:\n",
    "            try:\n",
    "                json_article_details = json.loads(matches[1])  # second occurrence\n",
    "                print(f\"✅ Extracted article JSON for {cms_id}\")\n",
    "            except json.JSONDecodeError as e:\n",
    "                print(f\"⚠️ JSON decode error for article {cms_id}: {e}\")\n",
    "        else:\n",
    "            print(f\"⚠️ Could not find article demarker for {cms_id}\")\n",
    "\n",
    "    except Exception as e:\n",
    "        print(f\"Error fetching {article_url}: {e}\")\n",
    "        continue\n",
    "\n",
    "    # Fetch comments\n",
    "    comments = []\n",
    "    try:\n",
    "        time.sleep(2)\n",
    "        r = requests.get(comment_url, timeout=10)\n",
    "        r.raise_for_status()\n",
    "        data = r.json()\n",
    "\n",
    "        if isinstance(data, dict):\n",
    "            comments = extract_comments(data.get(\"items\", []))\n",
    "        elif isinstance(data, list):\n",
    "            comments = extract_comments(data)\n",
    "\n",
    "        print(f\"✅ Extracted {len(comments)} comments for {cms_id}\")\n",
    "\n",
    "    except Exception as e:\n",
    "        print(f\"Error fetching comments for {cms_id}: {e}\")\n",
    "\n",
    "    # Combine article + comments into one JSON structure\n",
    "    combined_json = {\n",
    "        \"cms_id\": cms_id,\n",
    "        \"article_link\": article_url,\n",
    "        \"article_details\": json_article_details,\n",
    "        \"comments\": comments\n",
    "    }\n",
    "\n",
    "    combined_articles.append(combined_json)\n",
    "\n",
    "\n",
    "# Final combined JSON for all articles\n",
    "# print(json.dumps(combined_articles[:2], indent=2, ensure_ascii=False)[:1000], \"...\")"
   ]
  },
  {
   "cell_type": "markdown",
   "id": "11457402-0904-4fe9-96f8-9c896222b075",
   "metadata": {},
   "source": [
    "## 2.3 Write Article details and Comments for each Article in json files:"
   ]
  },
  {
   "cell_type": "code",
   "execution_count": 9,
   "id": "d5014eee-c0e7-458e-80cf-6df0dbeb0daf",
   "metadata": {},
   "outputs": [
    {
     "name": "stdout",
     "output_type": "stream",
     "text": [
      "Saved article 124154932 to Output/toi-articles/toi-articles-Science\\124154932-20250926-195737.json\n",
      "Saved article 124149376 to Output/toi-articles/toi-articles-Science\\124149376-20250926-195737.json\n",
      "Saved article 124148809 to Output/toi-articles/toi-articles-Science\\124148809-20250926-195737.json\n",
      "Saved article 124147402 to Output/toi-articles/toi-articles-Science\\124147402-20250926-195737.json\n",
      "Saved article 124113646 to Output/toi-articles/toi-articles-Science\\124113646-20250926-195737.json\n",
      "Saved article 124112893 to Output/toi-articles/toi-articles-Science\\124112893-20250926-195737.json\n",
      "Saved article 124113708 to Output/toi-articles/toi-articles-Science\\124113708-20250926-195737.json\n",
      "Saved article 124112683 to Output/toi-articles/toi-articles-Science\\124112683-20250926-195737.json\n",
      "Saved article 124108001 to Output/toi-articles/toi-articles-Science\\124108001-20250926-195737.json\n",
      "Saved article 124108906 to Output/toi-articles/toi-articles-Science\\124108906-20250926-195737.json\n",
      "Saved article 124107834 to Output/toi-articles/toi-articles-Science\\124107834-20250926-195737.json\n",
      "Saved article 124099264 to Output/toi-articles/toi-articles-Science\\124099264-20250926-195737.json\n",
      "Saved article 124093219 to Output/toi-articles/toi-articles-Science\\124093219-20250926-195737.json\n",
      "Saved article 124090517 to Output/toi-articles/toi-articles-Science\\124090517-20250926-195737.json\n",
      "Saved article 124087991 to Output/toi-articles/toi-articles-Science\\124087991-20250926-195737.json\n",
      "Saved article 124089977 to Output/toi-articles/toi-articles-Science\\124089977-20250926-195737.json\n",
      "Saved article 124085777 to Output/toi-articles/toi-articles-Science\\124085777-20250926-195737.json\n",
      "Saved article 124069242 to Output/toi-articles/toi-articles-Science\\124069242-20250926-195737.json\n",
      "Saved article 124065406 to Output/toi-articles/toi-articles-Science\\124065406-20250926-195737.json\n",
      "Saved article 124065263 to Output/toi-articles/toi-articles-Science\\124065263-20250926-195737.json\n"
     ]
    }
   ],
   "source": [
    "\n",
    "# Base output path\n",
    "base_path = f\"Output/toi-articles/toi-articles-{RSS_FEED_NAME}\"\n",
    "os.makedirs(base_path, exist_ok=True)\n",
    "\n",
    "# Current date for file naming\n",
    "date_str = datetime.datetime.now().strftime('%Y%m%d-%H%M%S')\n",
    "\n",
    "# Write each article to a separate JSON file\n",
    "for article in combined_articles:\n",
    "    cms_id = article.get(\"cms_id\", \"unknown\")\n",
    "    file_name = f\"{cms_id}-{date_str}.json\"\n",
    "    file_path = os.path.join(base_path, file_name)\n",
    "    \n",
    "    with open(file_path, \"w\", encoding=\"utf-8\") as f:\n",
    "        json.dump(article, f, ensure_ascii=False, indent=4)\n",
    "    \n",
    "    print(f\"Saved article {cms_id} to {file_path}\")\n"
   ]
  },
  {
   "cell_type": "code",
   "execution_count": null,
   "id": "546bc7fe-09be-4d87-a03d-050920c85332",
   "metadata": {},
   "outputs": [],
   "source": []
  }
 ],
 "metadata": {
  "kernelspec": {
   "display_name": "rswarnka",
   "language": "python",
   "name": "rswarnka"
  },
  "language_info": {
   "codemirror_mode": {
    "name": "ipython",
    "version": 3
   },
   "file_extension": ".py",
   "mimetype": "text/x-python",
   "name": "python",
   "nbconvert_exporter": "python",
   "pygments_lexer": "ipython3",
   "version": "3.11.4"
  }
 },
 "nbformat": 4,
 "nbformat_minor": 5
}
